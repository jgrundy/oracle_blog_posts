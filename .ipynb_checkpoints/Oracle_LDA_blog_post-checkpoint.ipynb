{
 "cells": [
  {
   "cell_type": "markdown",
   "metadata": {},
   "source": [
    "### Imports and Setup"
   ]
  },
  {
   "cell_type": "code",
   "execution_count": 37,
   "metadata": {},
   "outputs": [],
   "source": [
    "#import necessary packages\n",
    "import pandas as pd\n",
    "import numpy as np\n",
    "import gensim as gs\n",
    "import pyLDAvis\n",
    "import pyLDAvis.gensim\n",
    "import string\n",
    "\n",
    "from matplotlib import pyplot as plt\n",
    "from nltk.tokenize import word_tokenize\n",
    "from nltk.corpus import stopwords\n",
    "from nltk.stem.wordnet import WordNetLemmatizer\n",
    "from gensim import corpora, models\n",
    "\n",
    "import warnings\n",
    "warnings.filterwarnings('ignore')\n",
    "\n",
    "pd.set_option('display.max_rows', 500)\n",
    "\n",
    "%matplotlib inline\n",
    "pyLDAvis.enable_notebook()"
   ]
  },
  {
   "cell_type": "code",
   "execution_count": 4,
   "metadata": {},
   "outputs": [],
   "source": [
    "#set up the NLP variables needed for preprocessing\n",
    "stop = set(stopwords.words('english'))\n",
    "punctuation = set(string.punctuation)\n",
    "letters = list(string.ascii_lowercase)"
   ]
  },
  {
   "cell_type": "markdown",
   "metadata": {},
   "source": [
    "### Main Methodology"
   ]
  },
  {
   "cell_type": "code",
   "execution_count": 153,
   "metadata": {},
   "outputs": [
    {
     "data": {
      "text/html": [
       "<div>\n",
       "<style>\n",
       "    .dataframe thead tr:only-child th {\n",
       "        text-align: right;\n",
       "    }\n",
       "\n",
       "    .dataframe thead th {\n",
       "        text-align: left;\n",
       "    }\n",
       "\n",
       "    .dataframe tbody tr th {\n",
       "        vertical-align: top;\n",
       "    }\n",
       "</style>\n",
       "<table border=\"1\" class=\"dataframe\">\n",
       "  <thead>\n",
       "    <tr style=\"text-align: right;\">\n",
       "      <th></th>\n",
       "      <th>business_id</th>\n",
       "      <th>date</th>\n",
       "      <th>review_id</th>\n",
       "      <th>stars</th>\n",
       "      <th>text</th>\n",
       "      <th>type</th>\n",
       "      <th>user_id</th>\n",
       "      <th>cool</th>\n",
       "      <th>useful</th>\n",
       "      <th>funny</th>\n",
       "    </tr>\n",
       "  </thead>\n",
       "  <tbody>\n",
       "    <tr>\n",
       "      <th>2</th>\n",
       "      <td>6oRAC4uyJCsJl1X0WZpVSA</td>\n",
       "      <td>2012-06-14</td>\n",
       "      <td>IESLBzqUCLdSzSqm0eCSxQ</td>\n",
       "      <td>4</td>\n",
       "      <td>love the gyro plate. Rice is so good and I als...</td>\n",
       "      <td>review</td>\n",
       "      <td>0hT2KtfLiobPvh6cDC8JQg</td>\n",
       "      <td>0</td>\n",
       "      <td>1</td>\n",
       "      <td>0</td>\n",
       "    </tr>\n",
       "    <tr>\n",
       "      <th>5</th>\n",
       "      <td>-yxfBYGB6SEqszmxJxd97A</td>\n",
       "      <td>2007-12-13</td>\n",
       "      <td>m2CKSsepBCoRYWxiRUsxAg</td>\n",
       "      <td>4</td>\n",
       "      <td>Quiessence is, simply put, beautiful.  Full wi...</td>\n",
       "      <td>review</td>\n",
       "      <td>sqYN3lNgvPbPCTRsMFu27g</td>\n",
       "      <td>4</td>\n",
       "      <td>3</td>\n",
       "      <td>1</td>\n",
       "    </tr>\n",
       "  </tbody>\n",
       "</table>\n",
       "</div>"
      ],
      "text/plain": [
       "              business_id        date               review_id  stars  \\\n",
       "2  6oRAC4uyJCsJl1X0WZpVSA  2012-06-14  IESLBzqUCLdSzSqm0eCSxQ      4   \n",
       "5  -yxfBYGB6SEqszmxJxd97A  2007-12-13  m2CKSsepBCoRYWxiRUsxAg      4   \n",
       "\n",
       "                                                text    type  \\\n",
       "2  love the gyro plate. Rice is so good and I als...  review   \n",
       "5  Quiessence is, simply put, beautiful.  Full wi...  review   \n",
       "\n",
       "                  user_id  cool  useful  funny  \n",
       "2  0hT2KtfLiobPvh6cDC8JQg     0       1      0  \n",
       "5  sqYN3lNgvPbPCTRsMFu27g     4       3      1  "
      ]
     },
     "execution_count": 153,
     "metadata": {},
     "output_type": "execute_result"
    }
   ],
   "source": [
    "#https://raw.githubusercontent.com/justmarkham/DAT7/master/data/yelp.csv\n",
    "data = pd.read_csv('yelp.csv')\n",
    "\n",
    "#remove the line breaks from each of the reviews\n",
    "data['text'] = data['text'].apply(lambda x: ' '.join(x.splitlines()))\n",
    "\n",
    "#remove non-ascii characters\n",
    "# data['text'] = data.text.str.decode('ascii')\n",
    "# data['text'] = data['text'].apply(lambda x: str(x))\n",
    "\n",
    "#find all the restaurants that have at least 10 reviews\n",
    "restaurants = data.groupby('business_id').count().sort_values('stars', ascending=False)\n",
    "restaurants = restaurants[restaurants.stars >= 10]\n",
    "\n",
    "#filter the main dataset for restaurants that have at least 10 reviews each\n",
    "filtered = data[data['business_id'].isin(restaurants.index)]\n",
    "filtered.head(2)\n",
    "\n",
    "# text_preprocessor(filtered, 'text')"
   ]
  },
  {
   "cell_type": "code",
   "execution_count": null,
   "metadata": {},
   "outputs": [],
   "source": []
  },
  {
   "cell_type": "code",
   "execution_count": 127,
   "metadata": {},
   "outputs": [
    {
     "name": "stdout",
     "output_type": "stream",
     "text": [
      "love the gyro plate. Rice is so good and I also dig their candy selection :)\n",
      "Quiessence is, simply put, beautiful.  Full windows and earthy wooden walls give a feeling of warmth inside this restaurant perched in the middle of a farm.  The restaurant seemed fairly full even on a Tuesday evening; we had secured reservations just a couple days before.  My friend and I had sampled sandwiches at the Farm Kitchen earlier that week, and were impressed enough to want to eat at the restaurant.  The crisp, fresh veggies didn't disappoint: we ordered the salad with orange and grapefruit slices and the crudites to start.  Both were very good; I didn't even know how much I liked raw radishes and turnips until I tried them with their pesto and aioli sauces.  For entrees, I ordered the lamb and my friend ordered the pork shoulder.  Service started out very good, but trailed off quickly.  Waiting for our food took a very long time (a couple seated after us received and finished their entrees before we received our's), and no one bothered to explain the situation until the maitre'd apologized almost 45 minutes later.  Apparently the chef was unhappy with the sauce on my entree, so he started anew.  This isn't really a problem, but they should have communicated this to us earlier.  For our troubles, they comped me the glass of wine I ordered, but they forgot to bring out with my entree  as I had requested.  Also, they didn't offer us bread, but I will echo the lady who whispered this to us on her way out: ask for the bread.  We received warm foccacia, apple walnut, and pomegranate slices of wonder with honey and butter.  YUM.  The entrees were both solid, but didn't quite live up to the innovation and freshness of the vegetables.  My lamb's sauce was delicious, but the meat was tough.  Maybe the vegetarian entrees are the way to go?  But our dessert, the gingerbread pear cake, was yet another winner.  If the entrees were tad more inspired, or the service weren't so spotty, this place definitely would have warranted five stars.  If I return, I'd like to try the 75$ tasting menu.  Our bill came out to about 100$ for two people, including tip, no drinks.\n",
      "Drop what you're doing and drive here. After I ate here I had to go back the next day for more.  The food is that good.  This cute little green building may have gone competely unoticed if I hadn't been driving down Palm Rd to avoid construction.  While waiting to turn onto 16th Street the \"Grand Opening\" sign caught my eye and my little yelping soul leaped for joy!  A new place to try!  It looked desolate from the outside but when I opened the door I was put at easy by the decor, smell and cleanliness inside.  I ordered dinner for two, to go.  The menu was awesome.  I loved seeing all the variety: poblano peppers, mole, mahi mahi, mushrooms...something wrapped in banana leaves.  It made it difficult to choose something.  Here's what I've had so far: La Condesa Shrimp Burro and Baja Sur Dogfish Shark Taco.  They are both were very delicious meals but the shrimp burro stole the show.  So much flavor.  I snagged some bites from my hubbys mole and mahi mahi burros- mmmm such a delight.  The salsa bar is endless.  I really stocked up.  I was excited to try the strawberry salsa but it was too hot, in fact it all was, but I'm a big wimp when it comes to hot peppers. The horchata is handmade and delicious.  They throw pecans and some fruit in there too which is a yummy bonus!  As if the good food wasn't enough to win me over the art in this restaurant sho did!  I'm a sucker for Mexican folk art and Frida Kahlo is my Oprah.  There's a painting of her and Diego hanging over the salsa bar, it's amazing.  All the paintings are great, love the artist.\n",
      "Luckily, I didn't have to travel far to make my connecting flight. And for this, I thank you, Phoenix.  My brief layover was pleasant as the employees were kind and the flight was on time.  Hopefully, next time I can grace Phoenix with my presence for a little while longer.\n",
      "Definitely come for Happy hour! Prices are amazing, sake bombers for $3...Great atmosphere and wait staff was incredibly nice and right on to all of our needs, didn't have to ask for a thing They were always spot on...Place gets crowded in the evening especially if you plan on sitting outside. I only wish there were one in Apollo Beach or Brandon!\n",
      "I met a friend for lunch yesterday.   Loved the water feature and patio walking in, if it had been warmer I would have definitely sat outside.   Inside was a little dark and I guess it was all the bats around but it reminded me of \"Dusk Till Dawn\".   We were seated, I hope was hoping for chips and salsa, I guess they don't serve them here?  We weren't even offered the ones on the menu, which I probably would have declined anyway because chips and salsa should be complimentary.   Anyhow I ordered the Fresh Snapper Tacos (see pics)  There is a lot of fish there being smothered by all those peppers, but as for everything else what you see is what you get.  For $15 I would have liked more than a TBSP of each, rice and beans, and a DEFINITELY more than a teaspoon of cheese and sour cream and maybe a lime or lemon.  There was more garnish on the plate than anything. Other than that it was good.   My Friend ordered the Green Chile Stew and The Green Chile Mac and Cheese (see pics) She has been here before so knew what she liked. I tasted the macaroni and thought it was pretty good too.  I'll give 3 stars until I go back and try out some other things.\n",
      "I love this place! I have been coming here for ages. My favorites: Elsa's Chicken sandwich, any of their burgers, dragon chicken wings, china's little chicken sandwich, and the hot pepper chicken sandwich. The atmosphere is always fun and the art they display is very abstract but totally cool!\n",
      "I love love LOVE this place. My boss (who is into healthy eating) recommended this place. I went over with some highly skeptical friends and one dinner was enough to convert them into believers! The food here is so good! We had the Shrimp dumplings and the Onion tart as starters. We ordered the Shirataki noodles and street tacos as entrees. So also ordered the Kale-aid. All of the dishes were yummy.  I have gone back many times since then and have never been disappointed! I have gone after yoga to get some Kale salad or the chicken chopped salad. I always have to get the Kale aid.  Once, a guy at the next table, uprooted a whole plant by mistake (on the patio) and was highly embarrassed as was his date! Ever since, I have very careful not to throw my arms around as I can be quite clumsy sometimes! I do NOT want to be banned from my favorite place for my clumsiness! I don't think I can live without True Food!\n",
      "Disclaimer: Like many of you, I am a sucker for charming little homes that have been re-purposed into restaurants. I am certain that this colored my opinion of Cibo.  That being said, I absolutely love having lunch here the other day. I unknowingly arrived at 2:05 (5 minutes after they close between lunch and dinner) but was served anyway. I had the salscicia sandwich and a side of fruit. The sandwich was excellent, served on perfectly crisp, chewy saltimbocca bread. The sausage was flavorful and was complimented by roasted red peppers and onions. All this was finished off with a great quality mozzarella cheese. Really, really delicious.  I should also say that the atmosphere here was friendly and  comfortable, though a bit small. This would be a great place to hang out if you lived nearby.\n",
      "I went here again when I got back to Phoenix after being gone for six months. This is one of my mom's favorite places to eat and I can understand why. The ravioli and the miso soup are so delicious! The wine was ok and I would recommend one of their elixirs over an alcohol beverage. Still a pretty delicious place to go in Phoenix.\n"
     ]
    }
   ],
   "source": [
    "for i in filtered.text[0:10]:\n",
    "    print i\n",
    "\n",
    "# text_preprocessor(filtered, 'text')\n",
    "\n",
    "# dictionary, corpus = build_nlp_objects(data.text)\n",
    "\n",
    "\n",
    "#build and train the LDA model\n",
    "# ldamodel = models.ldamodel.LdaModel(corpus, id2word=dictionary, num_topics=20, passes=3, iterations=10)\n",
    "\n",
    "# len(dictionary.token2id)\n",
    "# dictionary.token2id"
   ]
  },
  {
   "cell_type": "code",
   "execution_count": null,
   "metadata": {
    "collapsed": true
   },
   "outputs": [],
   "source": []
  },
  {
   "cell_type": "code",
   "execution_count": 117,
   "metadata": {
    "collapsed": true
   },
   "outputs": [],
   "source": [
    "def text_preprocessor(dataframe, text_column):\n",
    "    \"\"\"Takes in a Pandas dataframe column or Series of texts and preprocesses them for model building\"\"\"\n",
    "    \n",
    "    #remove punctuation\n",
    "    dataframe[text_column] = dataframe[text_column].apply(lambda x: ''.join(char for char in x if char not in punctuation))\n",
    "    dataframe.head()\n",
    "\n",
    "    #tokenize the documents\n",
    "    dataframe[text_column] = dataframe[text_column].apply(lambda x: word_tokenize(x.lower()))\n",
    "    \n",
    "    #remove stopwords\n",
    "    dataframe[text_column] = dataframe[text_column].apply(lambda x: [i for i in x if i not in stop])\n",
    "\n",
    "    #lemmatize the results\n",
    "    dataframe[text_column] = dataframe[text_column].apply(lambda x: [WordNetLemmatizer().lemmatize(i) for i in x])"
   ]
  },
  {
   "cell_type": "code",
   "execution_count": 39,
   "metadata": {
    "collapsed": true
   },
   "outputs": [],
   "source": [
    "def build_nlp_objects(tokenized_docs):\n",
    "    #build a total dictionary of all words in all documents\n",
    "    dictionary = corpora.Dictionary(tokenized_docs)\n",
    "\n",
    "    #build a per-document numerical representation of the dataset\n",
    "    corpus = [dictionary.doc2bow(doc) for doc in tokenized_docs]\n",
    "    \n",
    "    return dictionary, corpus"
   ]
  },
  {
   "cell_type": "code",
   "execution_count": null,
   "metadata": {
    "collapsed": true
   },
   "outputs": [],
   "source": [
    "print(dictionary.token2id)"
   ]
  },
  {
   "cell_type": "code",
   "execution_count": null,
   "metadata": {},
   "outputs": [],
   "source": [
    "pyLDAvis.gensim.prepare(ldamodel, corpus, dictionary)"
   ]
  },
  {
   "cell_type": "markdown",
   "metadata": {},
   "source": [
    "## Appendix"
   ]
  },
  {
   "cell_type": "code",
   "execution_count": null,
   "metadata": {
    "collapsed": true
   },
   "outputs": [],
   "source": [
    "# #methodology\n",
    "# def text_preprocessing(series_documents):\n",
    "#     texts = series_documents\n",
    "    \n",
    "#     texts.replace(\"[!@#$'%^;,:\\n&*\\r()-_+.{}]\", ' ', regex=True, inplace=True) #remove punct\n",
    "#     print(texts.head())\n",
    "#     texts.replace('\"',' ', regex=True, inplace=True) #remove punct\n",
    "#     print(texts.head())\n",
    "#     texts = reviews.apply(lambda x: word_tokenize(x.lower())) #tokenize\n",
    "#     print(texts.head())\n",
    "#     texts = reviews.apply(lambda x: [i for i in x if i not in stop]) #remove stopwords\n",
    "#     print(texts.head())\n",
    "#     texts = reviews.apply(lambda x: [WordNetLemmatizer().lemmatize(i) for i in x]) #lemmatize\n",
    "#     print(texts.head())\n",
    "    \n",
    "#     return texts"
   ]
  },
  {
   "cell_type": "code",
   "execution_count": null,
   "metadata": {
    "scrolled": true
   },
   "outputs": [],
   "source": [
    "dictionary.token2id"
   ]
  },
  {
   "cell_type": "code",
   "execution_count": null,
   "metadata": {
    "scrolled": true
   },
   "outputs": [],
   "source": [
    "corpus[0:2]"
   ]
  },
  {
   "cell_type": "code",
   "execution_count": null,
   "metadata": {
    "collapsed": true
   },
   "outputs": [],
   "source": [
    "for i in range(5):\n",
    "    print(ldamodel.get_document_topics(corpus)[i])\n",
    "    print"
   ]
  },
  {
   "cell_type": "code",
   "execution_count": null,
   "metadata": {
    "collapsed": true
   },
   "outputs": [],
   "source": [
    "ldamodel.print_topics(3)[0]"
   ]
  },
  {
   "cell_type": "code",
   "execution_count": null,
   "metadata": {
    "collapsed": true
   },
   "outputs": [],
   "source": [
    "#garbage heap\n",
    "\n",
    "#build a total dictionary of all words in all documents\n",
    "dictionary = corpora.Dictionary(reviews)\n",
    "\n",
    "#build a per-document numerical representation of the dataset\n",
    "corpus = [dictionary.doc2bow(text) for text in reviews]\n",
    "\n",
    "#build and train the LDA model\n",
    "ldamodel = models.ldamodel.LdaModel(corpus, id2word=dictionary, \n",
    "                                    num_topics=20, passes=3, iterations=10)\n",
    "\n",
    "#     dataframe[text_column].replace(\"[!@#$'%^:;,\"\"&*)(-+.{|}[\\]=<>?/\\\\\\~`]\", ' ', regex=True, inplace=True)\n",
    "#     dataframe[text_column].replace('[!\"#%\\'()*+,-./:;<=>?@\\[\\]^_`{|}~1234567890’”“′‘\\\\\\]', ' ', regex=True, inplace=True)    "
   ]
  },
  {
   "cell_type": "markdown",
   "metadata": {},
   "source": [
    "#### Todo:\n",
    "- Tfidf"
   ]
  }
 ],
 "metadata": {
  "kernelspec": {
   "display_name": "Python 2",
   "language": "python",
   "name": "python2"
  },
  "language_info": {
   "codemirror_mode": {
    "name": "ipython",
    "version": 2
   },
   "file_extension": ".py",
   "mimetype": "text/x-python",
   "name": "python",
   "nbconvert_exporter": "python",
   "pygments_lexer": "ipython2",
   "version": "2.7.13"
  }
 },
 "nbformat": 4,
 "nbformat_minor": 2
}
